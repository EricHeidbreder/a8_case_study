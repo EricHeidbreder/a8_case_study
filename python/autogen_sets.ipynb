{
 "metadata": {
  "language_info": {
   "codemirror_mode": {
    "name": "ipython",
    "version": 3
   },
   "file_extension": ".py",
   "mimetype": "text/x-python",
   "name": "python",
   "nbconvert_exporter": "python",
   "pygments_lexer": "ipython3",
   "version": "3.8.8"
  },
  "orig_nbformat": 2,
  "kernelspec": {
   "name": "python3",
   "display_name": "Python 3.8.8 64-bit ('a8': conda)",
   "metadata": {
    "interpreter": {
     "hash": "3e61a0c54da15a66e19eb1f598bc246bc14de0a3266c1a8df2301b37883c0195"
    }
   }
  }
 },
 "nbformat": 4,
 "nbformat_minor": 2,
 "cells": [
  {
   "cell_type": "code",
   "execution_count": 1,
   "metadata": {},
   "outputs": [],
   "source": [
    "import lkml\n",
    "import os"
   ]
  },
  {
   "cell_type": "code",
   "execution_count": 2,
   "metadata": {},
   "outputs": [],
   "source": [
    "lookml_base = 'C:\\\\Users\\\\EricHeidbreder\\\\Documents\\\\looker_projects\\\\a8_case_study\\\\'\n",
    "lookml_folder = \"_layers\"\n",
    "lookml_filename = \"_base.layer.lkml\"\n",
    "lookml_path = os.path.join(lookml_base, lookml_folder, lookml_filename)"
   ]
  },
  {
   "cell_type": "code",
   "execution_count": 4,
   "metadata": {},
   "outputs": [],
   "source": [
    "def generate_new_filename(lookml_path, extension):\n",
    "    lookml_filename_new = lookml_path.split('\\\\')[-1].split('.')\n",
    "    lookml_filename_new[0] += extension\n",
    "    return '.'.join(lookml_filename_new)"
   ]
  },
  {
   "cell_type": "code",
   "execution_count": 5,
   "metadata": {},
   "outputs": [],
   "source": [
    "def find(lst, key, value):\n",
    "    '''\n",
    "    Finds a value in a list of dictionaries\n",
    "    '''\n",
    "    for i, dic in enumerate(lst):\n",
    "        if dic[key] == value:\n",
    "            return i\n",
    "    return f'Value \"{value}\" not found'"
   ]
  },
  {
   "cell_type": "code",
   "execution_count": 123,
   "metadata": {},
   "outputs": [],
   "source": [
    "def generate_sets(lookml_path):\n",
    "    '''\n",
    "    Automatically generate sets for each dimension group in a view\n",
    "    '''\n",
    "    # Indicates if a change was made to the file\n",
    "    made_change = 0\n",
    "\n",
    "    with open(lookml_path, 'r+') as file:\n",
    "        result = lkml.load(file)\n",
    "\n",
    "    try:    \n",
    "        view_list = result['views']\n",
    "    except:\n",
    "        return 'No views in current file'\n",
    "\n",
    "\n",
    "    for view_num in range(len(view_list)):\n",
    "\n",
    "    # # get the view number index from list of dictionaries\n",
    "    # view_num = find(view_list, 'name', view_name)\n",
    "    \n",
    "        # Are there any dimension groups in this view?\n",
    "        try:\n",
    "            dim_group_count = len(view_list[view_num]['dimension_groups'])\n",
    "\n",
    "        except:\n",
    "            print(f'No dimension groups in {os.path.basename(lookml_path)} view')\n",
    "            continue\n",
    "\n",
    "        # Yay! There's at least one dimension group.\n",
    "        # Now, are there any sets in this dimension group?\n",
    "        try:\n",
    "            current_set_list = view_list[view_num]['sets']\n",
    "\n",
    "        # There weren't any sets, but that's okay. We'll create a new one.\n",
    "        except:\n",
    "            current_set_list = view_list[view_num]['sets'] = []\n",
    "\n",
    "        # Creating some tracking info\n",
    "        new_set_names = []\n",
    "\n",
    "        # If the duration/time fields got left out, they will default to these\n",
    "        default_duration_fields = [\n",
    "            'days',\n",
    "            'hours',\n",
    "            'minutes',\n",
    "            'months',\n",
    "            'quarters',\n",
    "            'seconds',\n",
    "            'weeks',\n",
    "            'years'\n",
    "        ]\n",
    "\n",
    "        default_time_fields = [ \n",
    "            'date',\n",
    "            'month',\n",
    "            'quarter',\n",
    "            'time',\n",
    "            'week',\n",
    "            'year'     \n",
    "        ]\n",
    "\n",
    "        # Iterate through dimension groups and generate sets based on the\n",
    "        # timeframes in the dimension group\n",
    "        for dim_group in view_list[view_num]['dimension_groups']:\n",
    "\n",
    "            # Currently can't handle dynamic label names, so if there's\n",
    "            # any liquid, we'll skip for now\n",
    "            try:\n",
    "                if \"{%\" in dim_group['sql']:\n",
    "                    continue\n",
    "                    print(\"There's Liquid!\")\n",
    "            except:\n",
    "                pass\n",
    "\n",
    "            # extracting info from the dimension group and creating\n",
    "            # variables to be used in set generation\n",
    "            try:\n",
    "                dim_group_type = dim_group['type']\n",
    "            except:\n",
    "                print('No type, must be a refinement...continuing.')\n",
    "                continue\n",
    "\n",
    "            dim_group_name = dim_group['name']\n",
    "\n",
    "            try:\n",
    "                dim_group_timeframes = dim_group['timeframes']\n",
    "            except:\n",
    "                if dim_group_type == 'time':\n",
    "                    dim_group_timeframes = default_time_fields\n",
    "                elif dim_group_type == 'duration':\n",
    "                    dim_group_timeframes = default_duration_fields\n",
    "\n",
    "            new_set_name = f'{dim_group_name}_{dim_group_type}_fields'\n",
    "\n",
    "            # there are different naming formats for duration vs. time types, so we need to build different field name\n",
    "            # lists for the different types\n",
    "            if dim_group_type == 'time':\n",
    "                field_names = [dim_group_name + '_' + timeframe for timeframe in dim_group_timeframes]\n",
    "            elif dim_group_type == 'duration':\n",
    "                field_names = [timeframe + '_' + dim_group_name for timeframe in dim_group_timeframes]\n",
    "\n",
    "            view_list[view_num]['sets'].append(\n",
    "                {'fields': field_names,\n",
    "            'name': new_set_name}\n",
    "            )\n",
    "\n",
    "            new_set_names.append(new_set_name)\n",
    "\n",
    "            made_change = 1\n",
    "\n",
    "    # We only want to overwrite the file if we made any changes\n",
    "\n",
    "    if made_change:\n",
    "\n",
    "        print(f'Created the following {dim_group_count} new sets:')\n",
    "        [print(set_name) for set_name in new_set_names]\n",
    "\n",
    "        orig_lookml_filename = lookml_path.split('\\\\')[-1]\n",
    "\n",
    "        new_lookml_filename = generate_new_filename(lookml_path, '_new')\n",
    "\n",
    "        lookml_new_path = lookml_path.replace(orig_lookml_filename, new_lookml_filename)\n",
    "\n",
    "        with open(f'{lookml_path}', 'w+') as new_file:\n",
    "            lkml.dump(result, new_file)\n",
    "    "
   ]
  },
  {
   "cell_type": "code",
   "execution_count": 124,
   "metadata": {},
   "outputs": [
    {
     "output_type": "stream",
     "name": "stdout",
     "text": [
      "Created the following 1 new sets:\ncreation_to_delivery_duration_fields\nNo dimension groups in location.layer.lkml view\nNo dimension groups in location.layer.lkml view\nNo dimension groups in profit.layer.lkml view\nNo dimension groups in revenue.layer.lkml view\nNo dimension groups in user_age_and_name.layer.lkml view\nNo dimension groups in order_sequence_1.layer.lkml view\nNo dimension groups in order_sequence_1.layer.lkml view\nNo dimension groups in order_sequence_1.layer.lkml view\nNo dimension groups in order_sequence_2.layer.lkml view\nNo dimension groups in order_sequence_2.layer.lkml view\nNo dimension groups in profit_per_order.layer.lkml view\nNo dimension groups in profit_per_order.layer.lkml view\nNo dimension groups in delivery_duration.group.lkml view\nNo dimension groups in demographics.group.lkml view\nNo dimension groups in ids.group.lkml view\nNo dimension groups in ids.group.lkml view\nNo dimension groups in location.group.lkml view\nNo dimension groups in location.group.lkml view\nNo dimension groups in order_sequence.group.lkml view\nNo dimension groups in product_attribute.group.lkml view\nNo dimension groups in profit.group.lkml view\nNo dimension groups in profit_per_order.group.lkml view\nNo dimension groups in revenue.group.lkml view\nNo dimension groups in calculation_selector.layer.lkml view\nNo dimension groups in category_filter.layer.lkml view\nNo dimension groups in pop_support.lkml view\nNo dimension groups in top_n_support.lkml view\nNo dimension groups in distribution_centers.view.lkml view\nCreated the following 1 new sets:\ncompleted_time_fields\nCreated the following 1 new sets:\ncreated_time_fields\nCreated the following 2 new sets:\ncreated_time_fields\nsold_time_fields\nCreated the following 4 new sets:\ncreated_time_fields\ndelivered_time_fields\nreturned_time_fields\nshipped_time_fields\nNo dimension groups in products.view.lkml view\nNo dimension groups in users.view.lkml view\nCreated the following 1 new sets:\ncreated_time_fields\nNo dimension groups in _base.layer.lkml view\nNo dimension groups in _base.layer.lkml view\nCreated the following 1 new sets:\ncreated_time_fields\nNo dimension groups in _basic.layer.lkml view\nNo dimension groups in _basic.layer.lkml view\nNo dimension groups in _basic.layer.lkml view\nNo dimension groups in _basic.layer.lkml view\nNo dimension groups in _basic.layer.lkml view\nNo dimension groups in _basic.layer.lkml view\n"
     ]
    }
   ],
   "source": [
    "for folder in os.listdir(lookml_base):\n",
    "    # First, let's only keep folders that don't begin with periods and make sure we're not running any stray .lkml files through this\n",
    "    if folder[0] != '.' and folder.split('.')[-1] not in ['lkml']:\n",
    "        for filename in os.listdir(lookml_base + folder):\n",
    "            # ignore any files beginning with a period, and any python or jupyter notebooks files (py or ipynb)\n",
    "            if filename[0] != '.' and filename.split('.')[-1] not in ['py', 'ipynb']:\n",
    "                lookml_path = os.path.join(lookml_base, folder, filename)\n",
    "                generate_sets(lookml_path)"
   ]
  }
 ]
}