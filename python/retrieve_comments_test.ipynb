{
 "metadata": {
  "language_info": {
   "codemirror_mode": {
    "name": "ipython",
    "version": 3
   },
   "file_extension": ".py",
   "mimetype": "text/x-python",
   "name": "python",
   "nbconvert_exporter": "python",
   "pygments_lexer": "ipython3",
   "version": "3.8.8"
  },
  "orig_nbformat": 2,
  "kernelspec": {
   "name": "python3",
   "display_name": "Python 3.8.8 64-bit ('a8': conda)",
   "metadata": {
    "interpreter": {
     "hash": "3e61a0c54da15a66e19eb1f598bc246bc14de0a3266c1a8df2301b37883c0195"
    }
   }
  }
 },
 "nbformat": 4,
 "nbformat_minor": 2,
 "cells": [
  {
   "cell_type": "code",
   "execution_count": 3,
   "metadata": {},
   "outputs": [],
   "source": [
    "import lkml\n",
    "from lkml import (\n",
    "    Lexer,\n",
    "    Parser\n",
    ")\n",
    "\n",
    "from lkml.tokens import(\n",
    "    LiteralToken    \n",
    ")\n",
    "from lkml.tree import (\n",
    "    BlockNode,\n",
    "    ContainerNode,\n",
    "    DocumentNode,\n",
    "    ListNode,\n",
    "    PairNode,\n",
    "    SyntaxNode,\n",
    "    SyntaxToken,\n",
    "    LeftCurlyBrace,\n",
    "    RightCurlyBrace,\n",
    "    LeftBracket,\n",
    "    RightBracket,\n",
    "    Visitor,\n",
    "    Colon,\n",
    ")\n",
    "\n",
    "from dataclasses import replace\n",
    "from lkml.visitors import BasicTransformer\n",
    "\n",
    "import os"
   ]
  },
  {
   "cell_type": "code",
   "execution_count": 4,
   "metadata": {},
   "outputs": [],
   "source": [
    "lookml_base = 'C:\\\\Users\\\\EricHeidbreder\\\\Documents\\\\looker_projects\\\\a8_case_study\\\\'\n",
    "lookml_folder = \"_layers\"\n",
    "lookml_filename = \"_base.layer.lkml\"\n",
    "lookml_path = os.path.join(lookml_base, lookml_folder, lookml_filename)"
   ]
  },
  {
   "cell_type": "code",
   "execution_count": 5,
   "metadata": {},
   "outputs": [],
   "source": [
    "with open(lookml_path, 'r+') as f:\n",
    "    text = f.read()"
   ]
  },
  {
   "cell_type": "code",
   "execution_count": 6,
   "metadata": {},
   "outputs": [],
   "source": [
    "view_text = '''\n",
    "    view: order_items {\n",
    "    sql_table_name: \"PUBLIC\".\"ORDER_ITEMS\"\n",
    "      ;;\n",
    "    drill_fields: [pk1_order_item_id]\n",
    "\n",
    "    dimension: pk1_order_item_id {\n",
    "      primary_key: yes\n",
    "      type: number\n",
    "      sql: ${TABLE}.\"ID\" ;;\n",
    "    }\n",
    "\n",
    "    dimension_group: created {\n",
    "      type: time\n",
    "      timeframes: [\n",
    "        raw,\n",
    "        time,\n",
    "        day_of_month,\n",
    "        hour_of_day,\n",
    "        day_of_year,\n",
    "        date,\n",
    "        week,\n",
    "        month,\n",
    "        quarter,\n",
    "        year\n",
    "      ]\n",
    "      sql: ${TABLE}.\"CREATED_AT\" ;;\n",
    "    }\n",
    "\n",
    "    dimension_group: delivered {\n",
    "      type: time\n",
    "      timeframes: [\n",
    "        raw,\n",
    "        time,\n",
    "        date,\n",
    "        week,\n",
    "        month,\n",
    "        quarter,\n",
    "        year\n",
    "      ]\n",
    "      sql: ${TABLE}.\"DELIVERED_AT\" ;;\n",
    "    }\n",
    "\n",
    "    dimension: inventory_item_id {\n",
    "      type: number\n",
    "      # hidden: yes\n",
    "      sql: ${TABLE}.\"INVENTORY_ITEM_ID\" ;;\n",
    "    }\n",
    "\n",
    "    dimension: order_id {\n",
    "      type: number\n",
    "      sql: ${TABLE}.\"ORDER_ID\" ;;\n",
    "    }\n",
    "\n",
    "    dimension_group: returned {\n",
    "      type: time\n",
    "      timeframes: [\n",
    "        raw,\n",
    "        time,\n",
    "        date,\n",
    "        week,\n",
    "        month,\n",
    "        quarter,\n",
    "        year\n",
    "      ]\n",
    "      sql: ${TABLE}.\"RETURNED_AT\" ;;\n",
    "    }\n",
    "\n",
    "    dimension: sale_price {\n",
    "      type: number\n",
    "      sql: ${TABLE}.\"SALE_PRICE\" ;;\n",
    "    }\n",
    "\n",
    "    dimension_group: shipped {\n",
    "      type: time\n",
    "      timeframes: [\n",
    "        raw,\n",
    "        time,\n",
    "        date,\n",
    "        week,\n",
    "        month,\n",
    "        quarter,\n",
    "        year\n",
    "      ]\n",
    "      sql: ${TABLE}.\"SHIPPED_AT\" ;;\n",
    "    }\n",
    "\n",
    "    dimension: status {\n",
    "      type: string\n",
    "      sql: ${TABLE}.\"STATUS\" ;;\n",
    "    }\n",
    "\n",
    "    dimension: user_id {\n",
    "      type: number\n",
    "      # hidden: yes\n",
    "      sql: ${TABLE}.\"USER_ID\" ;;\n",
    "    }\n",
    "\n",
    "    measure: count {\n",
    "      type: count\n",
    "      drill_fields: [detail*]\n",
    "    }\n",
    "\n",
    "    # ----- Sets of fields for drilling ------\n",
    "    set: detail {\n",
    "      fields: [\n",
    "        pk1_order_item_id,\n",
    "        inventory_items.product_name,\n",
    "        inventory_items.pk1_inventory_item_id,\n",
    "        users.last_name,\n",
    "        users.first_name,\n",
    "        users.pk1_user_id\n",
    "      ]\n",
    "    }\n",
    "  }\n",
    "'''"
   ]
  },
  {
   "cell_type": "code",
   "execution_count": 7,
   "metadata": {},
   "outputs": [],
   "source": [
    "lexer=Lexer(view_text)\n",
    "tokens = lexer.scan()\n",
    "parser = Parser(tokens)\n",
    "tree = parser.parse()"
   ]
  },
  {
   "cell_type": "code",
   "execution_count": 8,
   "metadata": {},
   "outputs": [],
   "source": [
    "def load_with_comments(text):\n",
    "    '''\n",
    "    Parses LookML , but doesn't remove comments\n",
    "    '''\n",
    "\n",
    "    lexer=Lexer(text)\n",
    "    tokens = lexer.scan()\n",
    "    parser = Parser(tokens)\n",
    "    tree = parser.parse()\n",
    "\n",
    "    return tree"
   ]
  },
  {
   "cell_type": "code",
   "execution_count": 9,
   "metadata": {},
   "outputs": [],
   "source": [
    "result = load_with_comments(text)"
   ]
  },
  {
   "cell_type": "code",
   "execution_count": 10,
   "metadata": {},
   "outputs": [
    {
     "output_type": "execute_result",
     "data": {
      "text/plain": [
       "'set: detail {\\n      fields: [\\n        pk1_order_item_id,\\n        inventory_items.product_name,\\n        inventory_items.pk1_inventory_item_id,\\n        users.last_name,\\n        users.first_name,\\n        users.pk1_user_id\\n      ]\\n    }\\n  '"
      ]
     },
     "metadata": {},
     "execution_count": 10
    }
   ],
   "source": [
    "str(tree.container.items[0].container.items[-1])"
   ]
  },
  {
   "cell_type": "code",
   "execution_count": 11,
   "metadata": {},
   "outputs": [
    {
     "output_type": "execute_result",
     "data": {
      "text/plain": [
       "(PairNode(type='type', value='time'),\n",
       " ListNode(type='timeframes'),\n",
       " PairNode(type='sql', value='${TABLE}.\"DELIVERED_AT\"'))"
      ]
     },
     "metadata": {},
     "execution_count": 11
    }
   ],
   "source": [
    "tree.container.items[0].container.items[4].container.items"
   ]
  },
  {
   "cell_type": "code",
   "execution_count": 10,
   "metadata": {},
   "outputs": [],
   "source": [
    "dim_group_timeframes = [field.value for field in tree.container.items[0].container.items[3].container.items[1].items]"
   ]
  },
  {
   "cell_type": "code",
   "execution_count": 223,
   "metadata": {},
   "outputs": [],
   "source": [
    "dimension_group_timeframes = ['field1', 'field2']"
   ]
  },
  {
   "cell_type": "code",
   "execution_count": 11,
   "metadata": {},
   "outputs": [],
   "source": [
    "view_node = tree.container.items[0]"
   ]
  },
  {
   "cell_type": "code",
   "execution_count": 46,
   "metadata": {},
   "outputs": [
    {
     "output_type": "execute_result",
     "data": {
      "text/plain": [
       "4"
      ]
     },
     "metadata": {},
     "execution_count": 46
    }
   ],
   "source": [
    "len([item for item in view_node.container.items if item.type.value == 'dimension_group'])"
   ]
  },
  {
   "cell_type": "code",
   "execution_count": 435,
   "metadata": {},
   "outputs": [
    {
     "output_type": "execute_result",
     "data": {
      "text/plain": [
       "[PairNode(type='sql_table_name', value='\"PUBLIC\".\"ORDER_ITEMS\"'),\n",
       " ListNode(type='drill_fields'),\n",
       " BlockNode(type='dimension', name='pk1_order_item_id'),\n",
       " BlockNode(type='dimension_group', name='created'),\n",
       " BlockNode(type='dimension_group', name='delivered'),\n",
       " BlockNode(type='dimension', name='inventory_item_id'),\n",
       " BlockNode(type='dimension', name='order_id'),\n",
       " BlockNode(type='dimension_group', name='returned'),\n",
       " BlockNode(type='dimension', name='sale_price'),\n",
       " BlockNode(type='dimension_group', name='shipped'),\n",
       " BlockNode(type='dimension', name='status'),\n",
       " BlockNode(type='dimension', name='user_id'),\n",
       " BlockNode(type='measure', name='count'),\n",
       " BlockNode(type='set', name='detail')]"
      ]
     },
     "metadata": {},
     "execution_count": 435
    }
   ],
   "source": [
    "item_list"
   ]
  },
  {
   "cell_type": "code",
   "execution_count": 429,
   "metadata": {},
   "outputs": [],
   "source": [
    "item_list.append(new_set)"
   ]
  },
  {
   "cell_type": "code",
   "execution_count": 431,
   "metadata": {},
   "outputs": [
    {
     "output_type": "execute_result",
     "data": {
      "text/plain": [
       "(PairNode(type='sql_table_name', value='\"PUBLIC\".\"ORDER_ITEMS\"'),\n",
       " ListNode(type='drill_fields'),\n",
       " BlockNode(type='dimension', name='pk1_order_item_id'),\n",
       " BlockNode(type='dimension_group', name='created'),\n",
       " BlockNode(type='dimension_group', name='delivered'),\n",
       " BlockNode(type='dimension', name='inventory_item_id'),\n",
       " BlockNode(type='dimension', name='order_id'),\n",
       " BlockNode(type='dimension_group', name='returned'),\n",
       " BlockNode(type='dimension', name='sale_price'),\n",
       " BlockNode(type='dimension_group', name='shipped'),\n",
       " BlockNode(type='dimension', name='status'),\n",
       " BlockNode(type='dimension', name='user_id'),\n",
       " BlockNode(type='measure', name='count'),\n",
       " BlockNode(type='set', name='detail'),\n",
       " BlockNode(type='set', name='test_set'))"
      ]
     },
     "metadata": {},
     "execution_count": 431
    }
   ],
   "source": [
    "tuple(item_list)"
   ]
  },
  {
   "cell_type": "code",
   "execution_count": 190,
   "metadata": {
    "tags": []
   },
   "outputs": [],
   "source": [
    "class SetCreation(BasicTransformer):\n",
    "        dim_group_count = 0\n",
    "        def visit_block(self, node: BlockNode, set_list=[]) -> BlockNode:\n",
    "            global view_node\n",
    "            global final_node\n",
    "            global view_item_list\n",
    "            global dim_group_count\n",
    "            global num_dim_groups\n",
    "\n",
    "            \"\"\"Visit each Block and generate a set for each dimension group.\"\"\"\n",
    "            if node.type.value =='view':\n",
    "                view_node = node\n",
    "                view_item_list = list(node.container.items)\n",
    "                num_dim_groups = len([item for item in node.container.items if item.type.value == 'dimension_group'])\n",
    "                # print(num_dim_groups)\n",
    "            if node.type.value == 'dimension_group':\n",
    "                dim_group_count += 1\n",
    "                # print(dim_group_count)\n",
    "                dim_group_name = node.name.value\n",
    "                for item in node.container.items: \n",
    "                    try:\n",
    "                        # This returns either 'time' or 'duration' when iterating through each item in a BlockNode\n",
    "                        if item.type.value == 'type':\n",
    "                            # Storing the type for dynamic naming\n",
    "                            dim_group_type = item.value\n",
    "                    # If item doesn't have a type, we can move on to the next item\n",
    "                    except AttributeError:\n",
    "                        continue\n",
    "                    if item.type.value == 'timeframes':\n",
    "                        dimension_group_timeframes = [field.value for field in item.items]\n",
    "\n",
    "                        fields = ListNode(\n",
    "                            type=SyntaxToken(value='fields', prefix='   ', suffix=''),\n",
    "                            items=tuple(\n",
    "                                SyntaxToken(value=f'{field_value}', prefix='\\n          ', suffix='')\\\n",
    "                                for field_value in dimension_group_timeframes\n",
    "                            ),\n",
    "                            left_bracket=LeftBracket(value='[', prefix='', suffix=''),\n",
    "                            right_bracket=RightBracket(value=']', prefix='\\n        ', suffix='\\n')\n",
    "                        )                \n",
    "\n",
    "                        container = ContainerNode(\n",
    "                            items=(fields,)\n",
    "                        )\n",
    "\n",
    "                        new_set = BlockNode(\n",
    "                                    type=SyntaxToken(value='set', prefix='  ', suffix=''),\n",
    "                                    name=SyntaxToken(value=f'{dim_group_name}_{dim_group_type}_fields', prefix='', suffix=''),\n",
    "                                    left_brace=LeftCurlyBrace(value='{', prefix=' ', suffix='\\n    '),\n",
    "                                    right_brace=RightCurlyBrace(value='}', prefix='    ', suffix='\\n\\n'),\n",
    "                                    container=container\n",
    "                                )\n",
    "                        set_list.append(new_set)\n",
    "\n",
    "                        # new_node: BlockNode = replace(view_node.container, items=tuple(view_item_list + set_list))\n",
    "\n",
    "\n",
    "                        if dim_group_count == num_dim_groups:\n",
    "                            new_node: BlockNode = replace(view_node, container=replace(view_node.container, items=tuple(view_item_list + set_list)))\n",
    "                            final_node = new_node\n",
    "                            return self._visit_container(view_node)\n",
    "                        else:\n",
    "                            pass\n",
    "            return self._visit_container(node)\n",
    "\n",
    "class SetAddition(BasicTransformer):\n",
    "        def visit_block(self, node: BlockNode) -> BlockNode:\n",
    "            if node.type.value =='view':\n",
    "                new_node: BlockNode = replace(node, container=replace(node.container, items=final_node.container.items))\n",
    "                return new_node\n",
    "            else:\n",
    "                return self._visit_container(node)\n",
    "\n",
    "\n",
    "\n",
    "\n",
    "# Assume we already have a parse tree to visit\n",
    "result.accept(SetCreation())\n",
    "new_tree = new_tree.accept(SetAddition())"
   ]
  },
  {
   "cell_type": "code",
   "execution_count": 191,
   "metadata": {},
   "outputs": [
    {
     "output_type": "execute_result",
     "data": {
      "text/plain": [
       "SyntaxToken(value='number', prefix='', suffix='')"
      ]
     },
     "metadata": {},
     "execution_count": 191
    }
   ],
   "source": [
    "Parser(Lexer('''    dimension: pk1_order_item_id {\n",
    "      primary_key: yes\n",
    "      type: number\n",
    "      sql: ${TABLE}.\"ID\" ;;\n",
    "    }''').scan()).parse().container.items[0].container.items[1].value"
   ]
  },
  {
   "cell_type": "code",
   "execution_count": 194,
   "metadata": {},
   "outputs": [
    {
     "output_type": "execute_result",
     "data": {
      "text/plain": [
       "PairNode(type='group_label', value='something')"
      ]
     },
     "metadata": {},
     "execution_count": 194
    }
   ],
   "source": []
  },
  {
   "cell_type": "code",
   "execution_count": 180,
   "metadata": {},
   "outputs": [
    {
     "output_type": "execute_result",
     "data": {
      "text/plain": [
       "['sale', 'pk1']"
      ]
     },
     "metadata": {},
     "execution_count": 180
    }
   ],
   "source": [
    "'sale, pk1'.replace(' ', '').split(',')"
   ]
  },
  {
   "cell_type": "code",
   "execution_count": 268,
   "metadata": {},
   "outputs": [],
   "source": [
    "class AddLabel(BasicTransformer):\n",
    "        def __init__(self, field_search):\n",
    "            self.field_search = field_search.replace(' ', '').split(',')\n",
    "\n",
    "        def visit_block(self, node: BlockNode) -> BlockNode:            \n",
    "            if any(search_term in node.name.value for search_term in self.field_search):\n",
    "                new_label = PairNode(\n",
    "                    SyntaxToken(value='group_label', prefix='', suffix=''),\n",
    "                    SyntaxToken(value=label_name, prefix='', suffix='\\n    ')\n",
    "                )\n",
    "\n",
    "                # Not actually the new items yet, creating a list of the orig items\n",
    "                new_items = list(node.container.items)\n",
    "\n",
    "                # Now we insert the group label at the front\n",
    "                new_items.insert(0, new_label)\n",
    "\n",
    "                # Replacing the original node's items with the new items\n",
    "                new_container = replace(node.container, items=tuple(new_items))\n",
    "                new_node = replace(node, container=new_container)\n",
    "\n",
    "                return new_node\n",
    "\n",
    "            else:\n",
    "                return self._visit_container(node)"
   ]
  },
  {
   "cell_type": "code",
   "execution_count": 269,
   "metadata": {},
   "outputs": [],
   "source": [
    "field_search = input('What search terms are you looking for? Separate multiple values with commas.')\n",
    "label_name=input('What would you like the new label name to be?')\n",
    "new_tree = result.accept(AddLabel(field_search=field_search))"
   ]
  },
  {
   "cell_type": "code",
   "execution_count": 270,
   "metadata": {},
   "outputs": [],
   "source": [
    "with open('./test.lkml', 'w+') as f:\n",
    "    f.write(str(new_tree))"
   ]
  },
  {
   "cell_type": "code",
   "execution_count": 149,
   "metadata": {},
   "outputs": [
    {
     "output_type": "execute_result",
     "data": {
      "text/plain": [
       "(PairNode(type='sql_table_name', value='\"PUBLIC\".\"ORDER_ITEMS\"'),\n",
       " ListNode(type='drill_fields'),\n",
       " BlockNode(type='dimension', name='pk1_order_item_id'),\n",
       " BlockNode(type='dimension_group', name='created'),\n",
       " BlockNode(type='dimension_group', name='delivered'),\n",
       " BlockNode(type='dimension', name='inventory_item_id'),\n",
       " BlockNode(type='dimension', name='order_id'),\n",
       " BlockNode(type='dimension_group', name='returned'),\n",
       " BlockNode(type='dimension', name='sale_price'),\n",
       " BlockNode(type='dimension_group', name='shipped'),\n",
       " BlockNode(type='dimension', name='status'),\n",
       " BlockNode(type='dimension', name='user_id'),\n",
       " BlockNode(type='measure', name='count'),\n",
       " BlockNode(type='set', name='detail'),\n",
       " BlockNode(type='set', name='created_time_fields'),\n",
       " BlockNode(type='set', name='delivered_time_fields'),\n",
       " BlockNode(type='set', name='returned_time_fields'),\n",
       " BlockNode(type='set', name='shipped_time_fields'))"
      ]
     },
     "metadata": {},
     "execution_count": 149
    }
   ],
   "source": [
    "final_node.container.items"
   ]
  },
  {
   "cell_type": "code",
   "execution_count": 147,
   "metadata": {},
   "outputs": [
    {
     "output_type": "execute_result",
     "data": {
      "text/plain": [
       "(PairNode(type='sql_table_name', value='\"PUBLIC\".\"ORDER_ITEMS\"'),\n",
       " ListNode(type='drill_fields'),\n",
       " BlockNode(type='dimension', name='pk1_order_item_id'),\n",
       " BlockNode(type='dimension_group', name='created'),\n",
       " BlockNode(type='dimension_group', name='delivered'),\n",
       " BlockNode(type='dimension', name='inventory_item_id'),\n",
       " BlockNode(type='dimension', name='order_id'),\n",
       " BlockNode(type='dimension_group', name='returned'),\n",
       " BlockNode(type='dimension', name='sale_price'),\n",
       " BlockNode(type='dimension_group', name='shipped'),\n",
       " BlockNode(type='dimension', name='status'),\n",
       " BlockNode(type='dimension', name='user_id'),\n",
       " BlockNode(type='measure', name='count'),\n",
       " BlockNode(type='set', name='detail'))"
      ]
     },
     "metadata": {},
     "execution_count": 147
    }
   ],
   "source": [
    "new_tree.container.items[0].container.items"
   ]
  },
  {
   "cell_type": "code",
   "execution_count": 64,
   "metadata": {},
   "outputs": [
    {
     "output_type": "execute_result",
     "data": {
      "text/plain": [
       "(SyntaxToken(value='pk1_order_item_id', prefix='\\n        ', suffix=''),\n",
       " SyntaxToken(value='inventory_items.product_name', prefix='\\n        ', suffix=''),\n",
       " SyntaxToken(value='inventory_items.pk1_inventory_item_id', prefix='\\n        ', suffix=''),\n",
       " SyntaxToken(value='users.last_name', prefix='\\n        ', suffix=''),\n",
       " SyntaxToken(value='users.first_name', prefix='\\n        ', suffix=''),\n",
       " SyntaxToken(value='users.pk1_user_id', prefix='\\n        ', suffix='\\n      '))"
      ]
     },
     "metadata": {},
     "execution_count": 64
    }
   ],
   "source": [
    "tree.container.items[9].container.items[-1].container.items[0].items"
   ]
  },
  {
   "cell_type": "code",
   "execution_count": 32,
   "metadata": {},
   "outputs": [],
   "source": []
  },
  {
   "cell_type": "code",
   "execution_count": 33,
   "metadata": {},
   "outputs": [],
   "source": [
    "with open('./test.lkml', 'w+') as f:\n",
    "    f.write(result)"
   ]
  },
  {
   "cell_type": "code",
   "execution_count": 4,
   "metadata": {},
   "outputs": [],
   "source": [
    "lexer = lkml.Lexer(text)"
   ]
  },
  {
   "cell_type": "code",
   "execution_count": 5,
   "metadata": {},
   "outputs": [],
   "source": [
    "tokens = lexer.scan()"
   ]
  },
  {
   "cell_type": "code",
   "execution_count": 16,
   "metadata": {},
   "outputs": [],
   "source": [
    "parser = lkml.Parser(tokens)"
   ]
  },
  {
   "cell_type": "code",
   "execution_count": 25,
   "metadata": {},
   "outputs": [
    {
     "output_type": "execute_result",
     "data": {
      "text/plain": [
       "-1"
      ]
     },
     "metadata": {},
     "execution_count": 25
    }
   ],
   "source": [
    "parser.depth"
   ]
  },
  {
   "cell_type": "code",
   "execution_count": 14,
   "metadata": {},
   "outputs": [],
   "source": [
    "tree = parser.parse()"
   ]
  },
  {
   "cell_type": "code",
   "execution_count": 15,
   "metadata": {},
   "outputs": [
    {
     "output_type": "execute_result",
     "data": {
      "text/plain": [
       "DocumentNode(container=ContainerNode(), prefix='# This is all machine-generated code,\\n# so you\\'ll only need to add \"hidden: yes\"\\n# to the explores. You can unhide via the _basic.layer\\n# file as you need them.\\n\\n', suffix='')"
      ]
     },
     "metadata": {},
     "execution_count": 15
    }
   ],
   "source": []
  },
  {
   "cell_type": "code",
   "execution_count": 45,
   "metadata": {},
   "outputs": [
    {
     "output_type": "execute_result",
     "data": {
      "text/plain": [
       "BlockStartToken()"
      ]
     },
     "metadata": {},
     "execution_count": 45
    }
   ],
   "source": [
    "parser.advance()\n",
    "parser.peek()"
   ]
  },
  {
   "cell_type": "code",
   "execution_count": 141,
   "metadata": {},
   "outputs": [
    {
     "output_type": "execute_result",
     "data": {
      "text/plain": [
       "False"
      ]
     },
     "metadata": {},
     "execution_count": 141
    }
   ],
   "source": [
    "parser.check(lkml.tokens.CommentToken)"
   ]
  },
  {
   "cell_type": "code",
   "execution_count": 11,
   "metadata": {},
   "outputs": [
    {
     "output_type": "error",
     "ename": "AttributeError",
     "evalue": "'DocumentNode' object has no attribute 'items'",
     "traceback": [
      "\u001b[1;31m---------------------------------------------------------------------------\u001b[0m",
      "\u001b[1;31mAttributeError\u001b[0m                            Traceback (most recent call last)",
      "\u001b[1;32m<ipython-input-11-29b72ffabd2a>\u001b[0m in \u001b[0;36m<module>\u001b[1;34m\u001b[0m\n\u001b[1;32m----> 1\u001b[1;33m \u001b[0mlkml\u001b[0m\u001b[1;33m.\u001b[0m\u001b[0mdump\u001b[0m\u001b[1;33m(\u001b[0m\u001b[0mtree\u001b[0m\u001b[1;33m,\u001b[0m \u001b[1;34m'./test.lkml'\u001b[0m\u001b[1;33m)\u001b[0m\u001b[1;33m\u001b[0m\u001b[1;33m\u001b[0m\u001b[0m\n\u001b[0m",
      "\u001b[1;32mC:\\ProgramData\\Anaconda3\\envs\\a8\\lib\\site-packages\\lkml\\__init__.py\u001b[0m in \u001b[0;36mdump\u001b[1;34m(obj, file_object)\u001b[0m\n\u001b[0;32m     66\u001b[0m     \"\"\"\n\u001b[0;32m     67\u001b[0m     \u001b[0mparser\u001b[0m \u001b[1;33m=\u001b[0m \u001b[0mDictParser\u001b[0m\u001b[1;33m(\u001b[0m\u001b[1;33m)\u001b[0m\u001b[1;33m\u001b[0m\u001b[1;33m\u001b[0m\u001b[0m\n\u001b[1;32m---> 68\u001b[1;33m     \u001b[0mtree\u001b[0m\u001b[1;33m:\u001b[0m \u001b[0mDocumentNode\u001b[0m \u001b[1;33m=\u001b[0m \u001b[0mparser\u001b[0m\u001b[1;33m.\u001b[0m\u001b[0mparse\u001b[0m\u001b[1;33m(\u001b[0m\u001b[0mobj\u001b[0m\u001b[1;33m)\u001b[0m\u001b[1;33m\u001b[0m\u001b[1;33m\u001b[0m\u001b[0m\n\u001b[0m\u001b[0;32m     69\u001b[0m     \u001b[0mresult\u001b[0m \u001b[1;33m=\u001b[0m \u001b[0mstr\u001b[0m\u001b[1;33m(\u001b[0m\u001b[0mtree\u001b[0m\u001b[1;33m)\u001b[0m\u001b[1;33m\u001b[0m\u001b[1;33m\u001b[0m\u001b[0m\n\u001b[0;32m     70\u001b[0m     \u001b[1;32mif\u001b[0m \u001b[0mfile_object\u001b[0m\u001b[1;33m:\u001b[0m\u001b[1;33m\u001b[0m\u001b[1;33m\u001b[0m\u001b[0m\n",
      "\u001b[1;32mC:\\ProgramData\\Anaconda3\\envs\\a8\\lib\\site-packages\\lkml\\simple.py\u001b[0m in \u001b[0;36mparse\u001b[1;34m(self, obj)\u001b[0m\n\u001b[0;32m    255\u001b[0m     \u001b[1;32mdef\u001b[0m \u001b[0mparse\u001b[0m\u001b[1;33m(\u001b[0m\u001b[0mself\u001b[0m\u001b[1;33m,\u001b[0m \u001b[0mobj\u001b[0m\u001b[1;33m:\u001b[0m \u001b[0mDict\u001b[0m\u001b[1;33m[\u001b[0m\u001b[0mstr\u001b[0m\u001b[1;33m,\u001b[0m \u001b[0mAny\u001b[0m\u001b[1;33m]\u001b[0m\u001b[1;33m)\u001b[0m \u001b[1;33m->\u001b[0m \u001b[0mDocumentNode\u001b[0m\u001b[1;33m:\u001b[0m\u001b[1;33m\u001b[0m\u001b[1;33m\u001b[0m\u001b[0m\n\u001b[0;32m    256\u001b[0m         \u001b[1;34m\"\"\"Parses a primitive representation of LookML into a parse tree.\"\"\"\u001b[0m\u001b[1;33m\u001b[0m\u001b[1;33m\u001b[0m\u001b[0m\n\u001b[1;32m--> 257\u001b[1;33m         \u001b[0mnodes\u001b[0m \u001b[1;33m=\u001b[0m \u001b[1;33m[\u001b[0m\u001b[0mself\u001b[0m\u001b[1;33m.\u001b[0m\u001b[0mparse_any\u001b[0m\u001b[1;33m(\u001b[0m\u001b[0mkey\u001b[0m\u001b[1;33m,\u001b[0m \u001b[0mvalue\u001b[0m\u001b[1;33m)\u001b[0m \u001b[1;32mfor\u001b[0m \u001b[0mkey\u001b[0m\u001b[1;33m,\u001b[0m \u001b[0mvalue\u001b[0m \u001b[1;32min\u001b[0m \u001b[0mobj\u001b[0m\u001b[1;33m.\u001b[0m\u001b[0mitems\u001b[0m\u001b[1;33m(\u001b[0m\u001b[1;33m)\u001b[0m\u001b[1;33m]\u001b[0m\u001b[1;33m\u001b[0m\u001b[1;33m\u001b[0m\u001b[0m\n\u001b[0m\u001b[0;32m    258\u001b[0m         \u001b[0mcontainer\u001b[0m \u001b[1;33m=\u001b[0m \u001b[0mContainerNode\u001b[0m\u001b[1;33m(\u001b[0m\u001b[0mitems\u001b[0m\u001b[1;33m=\u001b[0m\u001b[0mtuple\u001b[0m\u001b[1;33m(\u001b[0m\u001b[0mflatten\u001b[0m\u001b[1;33m(\u001b[0m\u001b[0mnodes\u001b[0m\u001b[1;33m)\u001b[0m\u001b[1;33m)\u001b[0m\u001b[1;33m)\u001b[0m\u001b[1;33m\u001b[0m\u001b[1;33m\u001b[0m\u001b[0m\n\u001b[0;32m    259\u001b[0m         \u001b[1;32mreturn\u001b[0m \u001b[0mDocumentNode\u001b[0m\u001b[1;33m(\u001b[0m\u001b[0mcontainer\u001b[0m\u001b[1;33m)\u001b[0m\u001b[1;33m\u001b[0m\u001b[1;33m\u001b[0m\u001b[0m\n",
      "\u001b[1;31mAttributeError\u001b[0m: 'DocumentNode' object has no attribute 'items'"
     ]
    }
   ],
   "source": [
    "lkml.dump()"
   ]
  },
  {
   "cell_type": "code",
   "execution_count": 9,
   "metadata": {},
   "outputs": [
    {
     "output_type": "execute_result",
     "data": {
      "text/plain": [
       "(BlockNode(type='explore', name='distribution_centers'),\n",
       " BlockNode(type='view', name='distribution_centers'),\n",
       " BlockNode(type='explore', name='etl_jobs'),\n",
       " BlockNode(type='view', name='etl_jobs'),\n",
       " BlockNode(type='explore', name='events'),\n",
       " BlockNode(type='view', name='events'),\n",
       " BlockNode(type='explore', name='inventory_items'),\n",
       " BlockNode(type='view', name='inventory_items'),\n",
       " BlockNode(type='explore', name='order_items'),\n",
       " BlockNode(type='view', name='order_items'),\n",
       " BlockNode(type='explore', name='products'),\n",
       " BlockNode(type='view', name='products'),\n",
       " BlockNode(type='explore', name='users'),\n",
       " BlockNode(type='view', name='users'))"
      ]
     },
     "metadata": {},
     "execution_count": 9
    }
   ],
   "source": [
    "tree.container.items"
   ]
  },
  {
   "cell_type": "code",
   "execution_count": 4,
   "metadata": {},
   "outputs": [],
   "source": [
    "def generate_new_filename(lookml_path, extension):\n",
    "    lookml_filename_new = lookml_path.split('\\\\')[-1].split('.')\n",
    "    lookml_filename_new[0] += extension\n",
    "    return '.'.join(lookml_filename_new)"
   ]
  },
  {
   "cell_type": "code",
   "execution_count": 5,
   "metadata": {},
   "outputs": [],
   "source": [
    "def find(lst, key, value):\n",
    "    '''\n",
    "    Finds a value in a list of dictionaries\n",
    "    '''\n",
    "    for i, dic in enumerate(lst):\n",
    "        if dic[key] == value:\n",
    "            return i\n",
    "    return f'Value \"{value}\" not found'"
   ]
  },
  {
   "cell_type": "code",
   "execution_count": 123,
   "metadata": {},
   "outputs": [],
   "source": [
    "def generate_sets(lookml_path):\n",
    "    '''\n",
    "    Automatically generate sets for each dimension group in a view\n",
    "    '''\n",
    "    # Indicates if a change was made to the file\n",
    "    made_change = 0\n",
    "\n",
    "    with open(lookml_path, 'r+') as file:\n",
    "        result = lkml.load(file)\n",
    "\n",
    "    try:    \n",
    "        view_list = result['views']\n",
    "    except:\n",
    "        return 'No views in current file'\n",
    "\n",
    "\n",
    "    for view_num in range(len(view_list)):\n",
    "\n",
    "    # # get the view number index from list of dictionaries\n",
    "    # view_num = find(view_list, 'name', view_name)\n",
    "    \n",
    "        # Are there any dimension groups in this view?\n",
    "        try:\n",
    "            dim_group_count = len(view_list[view_num]['dimension_groups'])\n",
    "\n",
    "        except:\n",
    "            print(f'No dimension groups in {os.path.basename(lookml_path)} view')\n",
    "            continue\n",
    "\n",
    "        # Yay! There's at least one dimension group.\n",
    "        # Now, are there any sets in this dimension group?\n",
    "        try:\n",
    "            current_set_list = view_list[view_num]['sets']\n",
    "\n",
    "        # There weren't any sets, but that's okay. We'll create a new one.\n",
    "        except:\n",
    "            current_set_list = view_list[view_num]['sets'] = []\n",
    "\n",
    "        # Creating some tracking info\n",
    "        new_set_names = []\n",
    "\n",
    "        # If the duration/time fields got left out, they will default to these\n",
    "        default_duration_fields = [\n",
    "            'days',\n",
    "            'hours',\n",
    "            'minutes',\n",
    "            'months',\n",
    "            'quarters',\n",
    "            'seconds',\n",
    "            'weeks',\n",
    "            'years'\n",
    "        ]\n",
    "\n",
    "        default_time_fields = [ \n",
    "            'date',\n",
    "            'month',\n",
    "            'quarter',\n",
    "            'time',\n",
    "            'week',\n",
    "            'year'     \n",
    "        ]\n",
    "\n",
    "        # Iterate through dimension groups and generate sets based on the\n",
    "        # timeframes in the dimension group\n",
    "        for dim_group in view_list[view_num]['dimension_groups']:\n",
    "\n",
    "            # Currently can't handle dynamic label names, so if there's\n",
    "            # any liquid, we'll skip for now\n",
    "            try:\n",
    "                if \"{%\" in dim_group['sql']:\n",
    "                    continue\n",
    "                    print(\"There's Liquid!\")\n",
    "            except:\n",
    "                pass\n",
    "\n",
    "            # extracting info from the dimension group and creating\n",
    "            # variables to be used in set generation\n",
    "            try:\n",
    "                dim_group_type = dim_group['type']\n",
    "            except:\n",
    "                print('No type, must be a refinement...continuing.')\n",
    "                continue\n",
    "\n",
    "            dim_group_name = dim_group['name']\n",
    "\n",
    "            try:\n",
    "                dim_group_timeframes = dim_group['timeframes']\n",
    "            except:\n",
    "                if dim_group_type == 'time':\n",
    "                    dim_group_timeframes = default_time_fields\n",
    "                elif dim_group_type == 'duration':\n",
    "                    dim_group_timeframes = default_duration_fields\n",
    "\n",
    "            new_set_name = f'{dim_group_name}_{dim_group_type}_fields'\n",
    "\n",
    "            # there are different naming formats for duration vs. time types, so we need to build different field name\n",
    "            # lists for the different types\n",
    "            if dim_group_type == 'time':\n",
    "                field_names = [dim_group_name + '_' + timeframe for timeframe in dim_group_timeframes]\n",
    "            elif dim_group_type == 'duration':\n",
    "                field_names = [timeframe + '_' + dim_group_name for timeframe in dim_group_timeframes]\n",
    "\n",
    "            view_list[view_num]['sets'].append(\n",
    "                {'fields': field_names,\n",
    "            'name': new_set_name}\n",
    "            )\n",
    "\n",
    "            new_set_names.append(new_set_name)\n",
    "\n",
    "            made_change = 1\n",
    "\n",
    "    # We only want to overwrite the file if we made any changes\n",
    "\n",
    "    if made_change:\n",
    "\n",
    "        print(f'Created the following {dim_group_count} new sets:')\n",
    "        [print(set_name) for set_name in new_set_names]\n",
    "\n",
    "        orig_lookml_filename = lookml_path.split('\\\\')[-1]\n",
    "\n",
    "        new_lookml_filename = generate_new_filename(lookml_path, '_new')\n",
    "\n",
    "        lookml_new_path = lookml_path.replace(orig_lookml_filename, new_lookml_filename)\n",
    "\n",
    "        with open(f'{lookml_path}', 'w+') as new_file:\n",
    "            lkml.dump(result, new_file)\n",
    "    "
   ]
  },
  {
   "cell_type": "code",
   "execution_count": 124,
   "metadata": {},
   "outputs": [
    {
     "output_type": "stream",
     "name": "stdout",
     "text": [
      "Created the following 1 new sets:\ncreation_to_delivery_duration_fields\nNo dimension groups in location.layer.lkml view\nNo dimension groups in location.layer.lkml view\nNo dimension groups in profit.layer.lkml view\nNo dimension groups in revenue.layer.lkml view\nNo dimension groups in user_age_and_name.layer.lkml view\nNo dimension groups in order_sequence_1.layer.lkml view\nNo dimension groups in order_sequence_1.layer.lkml view\nNo dimension groups in order_sequence_1.layer.lkml view\nNo dimension groups in order_sequence_2.layer.lkml view\nNo dimension groups in order_sequence_2.layer.lkml view\nNo dimension groups in profit_per_order.layer.lkml view\nNo dimension groups in profit_per_order.layer.lkml view\nNo dimension groups in delivery_duration.group.lkml view\nNo dimension groups in demographics.group.lkml view\nNo dimension groups in ids.group.lkml view\nNo dimension groups in ids.group.lkml view\nNo dimension groups in location.group.lkml view\nNo dimension groups in location.group.lkml view\nNo dimension groups in order_sequence.group.lkml view\nNo dimension groups in product_attribute.group.lkml view\nNo dimension groups in profit.group.lkml view\nNo dimension groups in profit_per_order.group.lkml view\nNo dimension groups in revenue.group.lkml view\nNo dimension groups in calculation_selector.layer.lkml view\nNo dimension groups in category_filter.layer.lkml view\nNo dimension groups in pop_support.lkml view\nNo dimension groups in top_n_support.lkml view\nNo dimension groups in distribution_centers.view.lkml view\nCreated the following 1 new sets:\ncompleted_time_fields\nCreated the following 1 new sets:\ncreated_time_fields\nCreated the following 2 new sets:\ncreated_time_fields\nsold_time_fields\nCreated the following 4 new sets:\ncreated_time_fields\ndelivered_time_fields\nreturned_time_fields\nshipped_time_fields\nNo dimension groups in products.view.lkml view\nNo dimension groups in users.view.lkml view\nCreated the following 1 new sets:\ncreated_time_fields\nNo dimension groups in _base.layer.lkml view\nNo dimension groups in _base.layer.lkml view\nCreated the following 1 new sets:\ncreated_time_fields\nNo dimension groups in _basic.layer.lkml view\nNo dimension groups in _basic.layer.lkml view\nNo dimension groups in _basic.layer.lkml view\nNo dimension groups in _basic.layer.lkml view\nNo dimension groups in _basic.layer.lkml view\nNo dimension groups in _basic.layer.lkml view\n"
     ]
    }
   ],
   "source": [
    "for folder in os.listdir(lookml_base):\n",
    "    # First, let's only keep folders that don't begin with periods and make sure we're not running any stray .lkml files through this\n",
    "    if folder[0] != '.' and folder.split('.')[-1] not in ['lkml']:\n",
    "        for filename in os.listdir(lookml_base + folder):\n",
    "            # ignore any files beginning with a period, and any python or jupyter notebooks files (py or ipynb)\n",
    "            if filename[0] != '.' and filename.split('.')[-1] not in ['py', 'ipynb']:\n",
    "                lookml_path = os.path.join(lookml_base, folder, filename)\n",
    "                generate_sets(lookml_path)"
   ]
  },
  {
   "cell_type": "code",
   "execution_count": null,
   "metadata": {},
   "outputs": [],
   "source": []
  }
 ]
}